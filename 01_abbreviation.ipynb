{
 "cells": [
  {
   "cell_type": "markdown",
   "metadata": {},
   "source": [
    "# Abbreviation in Wind\n",
    "\n",
    "> Incomplete list of abbreviations used in wind."
   ]
  },
  {
   "cell_type": "markdown",
   "metadata": {},
   "source": [
    "## AEP (Annual Energy Production)\n",
    "[aep-part-1-capacity-and-more](https://www.windspire.ch/blog/2017/6/22/aep-part-1-capacity-and-more)"
   ]
  },
  {
   "cell_type": "code",
   "execution_count": null,
   "metadata": {},
   "outputs": [],
   "source": []
  }
 ],
 "metadata": {
  "kernelspec": {
   "display_name": "Python 3",
   "language": "python",
   "name": "python3"
  }
 },
 "nbformat": 4,
 "nbformat_minor": 2
}
