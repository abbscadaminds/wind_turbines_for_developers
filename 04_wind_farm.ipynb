{
 "cells": [
  {
   "cell_type": "markdown",
   "metadata": {},
   "source": [
    "# Wind Farm\n",
    "> How does a windfarm work, generate power. What role does a park controller play.\n",
    "\n",
    "[Why rows are curved](https://backend.orbit.dtu.dk/ws/portalfiles/portal/188314665/Krabben_2019_J._Phys._3A_Conf._Ser._1256_012028.pdf)"
   ]
  }
 ],
 "metadata": {
  "kernelspec": {
   "display_name": "Python 3",
   "language": "python",
   "name": "python3"
  }
 },
 "nbformat": 4,
 "nbformat_minor": 2
}
