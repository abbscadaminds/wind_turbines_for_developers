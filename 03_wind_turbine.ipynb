{
 "cells": [
  {
   "cell_type": "markdown",
   "metadata": {},
   "source": [
    "# Wind Turbine\n",
    "> How does a turbine work? What sensors does it have? Input/output streams of data (high resolution, alarms, etc). How it should be turned to catch the wind? This might need to be two sessions."
   ]
  }
 ],
 "metadata": {
  "kernelspec": {
   "display_name": "Python 3",
   "language": "python",
   "name": "python3"
  }
 },
 "nbformat": 4,
 "nbformat_minor": 2
}
