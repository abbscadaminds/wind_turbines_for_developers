{
 "cells": [
  {
   "cell_type": "markdown",
   "metadata": {},
   "source": [
    "# The Wind Resource\n",
    "\n",
    "> Characteristics of wind. Variations in season and day, turbulence etc."
   ]
  },
  {
   "cell_type": "code",
   "execution_count": null,
   "metadata": {},
   "outputs": [],
   "source": [
    "%matplotlib inline\n",
    "import pandas as pd\n",
    "import numpy as np"
   ]
  },
  {
   "cell_type": "code",
   "execution_count": null,
   "metadata": {},
   "outputs": [],
   "source": [
    "anh_df = pd.read_csv(\"data/wind_resource/LiDAR_Data_ANH_2013-2014.csv\")"
   ]
  },
  {
   "cell_type": "code",
   "execution_count": null,
   "metadata": {},
   "outputs": [],
   "source": [
    "anh_df[\"1_WindSpeed\"].hist(bins=np.arange(0,25.5,0.5), alpha=0.5, density=True)\n",
    "anh_df[\"7_WindSpeed\"].hist(bins=np.arange(0,25.5,0.5), alpha= 0.5, density=True)\n",
    "anh_df[\"10_WindSpeed\"].hist(bins=np.arange(0,25.5,0.5), alpha= 0.5, density=True)"
   ]
  },
  {
   "cell_type": "code",
   "execution_count": null,
   "metadata": {},
   "outputs": [],
   "source": [
    "for wspeed in anh_df.keys():\n",
    "    if wspeed.endswith(\"WindSpeed\"):\n",
    "        print(wspeed, anh_df[wspeed].mean())\n",
    "        anh_df[wspeed].hist(bins=np.arange(0,25.5,0.5), alpha= 0.5, density=True)"
   ]
  },
  {
   "cell_type": "code",
   "execution_count": null,
   "metadata": {},
   "outputs": [],
   "source": [
    "altitude_keys = [k for k in anh_df.keys() if \"Altitude\" in k]"
   ]
  },
  {
   "cell_type": "code",
   "execution_count": null,
   "metadata": {},
   "outputs": [],
   "source": [
    "print(anh_df[altitude_keys])"
   ]
  },
  {
   "cell_type": "code",
   "execution_count": null,
   "metadata": {},
   "outputs": [],
   "source": [
    "for k in anh_df.keys():\n",
    "    print(k)"
   ]
  },
  {
   "cell_type": "code",
   "execution_count": null,
   "metadata": {},
   "outputs": [],
   "source": [
    "print(anh_df[[\"3_WindDirection\",\"3_WindSpeed\"]])"
   ]
  }
 ],
 "metadata": {
  "kernelspec": {
   "display_name": "Python 3",
   "language": "python",
   "name": "python3"
  }
 },
 "nbformat": 4,
 "nbformat_minor": 2
}
